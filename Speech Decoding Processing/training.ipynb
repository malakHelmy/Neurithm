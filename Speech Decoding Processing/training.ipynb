{
  "cells": [
    {
      "cell_type": "code",
      "execution_count": 1,
      "metadata": {
        "colab": {
          "base_uri": "https://localhost:8080/"
        },
        "id": "TE6MdIeInqsh",
        "outputId": "3addb6cb-7381-4129-8f26-15af5ac783bc"
      },
      "outputs": [
        {
          "name": "stdout",
          "output_type": "stream",
          "text": [
            "['#refs#', 'X_data', 'y_data']\n",
            "<HDF5 dataset \"y_data\": shape (1035, 1), type \"|O\">\n"
          ]
        }
      ],
      "source": [
        "import h5py\n",
        "file_path = '/content/drive/MyDrive/processed_data.mat'\n",
        "with h5py.File(file_path, 'r') as mat_data:\n",
        "    print(list(mat_data.keys()))  # List available variables\n",
        "    print(mat_data['y_data'])  # Print dataset metadata\n"
      ]
    },
    {
      "cell_type": "code",
      "execution_count": 2,
      "metadata": {
        "colab": {
          "base_uri": "https://localhost:8080/"
        },
        "id": "vKt6-OaJpR8C",
        "outputId": "2c5404e3-73c3-4386-ab6e-c39769ec5dfc"
      },
      "outputs": [
        {
          "name": "stdout",
          "output_type": "stream",
          "text": [
            "X_data shape: (1035, 256, 61)\n",
            "y_data length: 1035\n",
            "Example phoneme labels: ['pa' 'pe' 'bi' 'bi' 'bi' 'bi' 'ta' 'de' 'di' 'pi']\n"
          ]
        }
      ],
      "source": [
        "import h5py\n",
        "import numpy as np\n",
        "\n",
        "# Load the .mat file\n",
        "file_path = '/content/drive/MyDrive/processed_data.mat'  # Adjust path if needed\n",
        "with h5py.File(file_path, 'r') as mat_data:\n",
        "    X_data = np.array(mat_data['X_data'])  # Load EEG data\n",
        "\n",
        "    # Extract and decode phoneme labels correctly\n",
        "    y_data = []\n",
        "    y_data_ref = mat_data['y_data']  # This is an array of references\n",
        "\n",
        "    for i in range(y_data_ref.shape[0]):  # Loop over stored labels\n",
        "        ref = y_data_ref[i][0]  # Get reference to actual dataset\n",
        "        label_data = mat_data[ref][:]  # Dereference and load data\n",
        "        label = ''.join(map(chr, label_data.flatten()))  # Decode bytes to string\n",
        "        y_data.append(label)\n",
        "\n",
        "# Convert to NumPy array\n",
        "y_data = np.array(y_data)\n",
        "\n",
        "# Check results\n",
        "print(\"X_data shape:\", X_data.shape)\n",
        "print(\"y_data length:\", len(y_data))\n",
        "print(\"Example phoneme labels:\", y_data[:10])"
      ]
    }
  ],
  "metadata": {
    "colab": {
      "provenance": []
    },
    "kernelspec": {
      "display_name": "Python 3",
      "name": "python3"
    },
    "language_info": {
      "name": "python"
    }
  },
  "nbformat": 4,
  "nbformat_minor": 0
}
