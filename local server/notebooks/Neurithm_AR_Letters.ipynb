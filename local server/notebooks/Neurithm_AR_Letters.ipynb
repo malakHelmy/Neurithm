{
  "cells": [
    {
      "cell_type": "code",
      "execution_count": 1,
      "metadata": {
        "colab": {
          "base_uri": "https://localhost:8080/"
        },
        "id": "Vq7p2Sq0kiUP",
        "outputId": "df3464b5-fb71-4eff-b1ec-671d1a05433e"
      },
      "outputs": [
        {
          "name": "stdout",
          "output_type": "stream",
          "text": [
            "Requirement already satisfied: mne in c:\\users\\user\\appdata\\local\\programs\\python\\python312\\lib\\site-packages (1.8.0)\n",
            "Requirement already satisfied: decorator in c:\\users\\user\\appdata\\local\\programs\\python\\python312\\lib\\site-packages (from mne) (5.1.1)\n",
            "Requirement already satisfied: jinja2 in c:\\users\\user\\appdata\\local\\programs\\python\\python312\\lib\\site-packages (from mne) (3.1.4)\n",
            "Requirement already satisfied: lazy-loader>=0.3 in c:\\users\\user\\appdata\\local\\programs\\python\\python312\\lib\\site-packages (from mne) (0.4)\n",
            "Requirement already satisfied: matplotlib>=3.6 in c:\\users\\user\\appdata\\local\\programs\\python\\python312\\lib\\site-packages (from mne) (3.9.2)\n",
            "Requirement already satisfied: numpy<3,>=1.23 in c:\\users\\user\\appdata\\local\\programs\\python\\python312\\lib\\site-packages (from mne) (2.1.2)\n",
            "Requirement already satisfied: packaging in c:\\users\\user\\appdata\\local\\programs\\python\\python312\\lib\\site-packages (from mne) (24.1)\n",
            "Requirement already satisfied: pooch>=1.5 in c:\\users\\user\\appdata\\local\\programs\\python\\python312\\lib\\site-packages (from mne) (1.8.2)\n",
            "Requirement already satisfied: scipy>=1.9 in c:\\users\\user\\appdata\\local\\programs\\python\\python312\\lib\\site-packages (from mne) (1.14.1)\n",
            "Requirement already satisfied: tqdm in c:\\users\\user\\appdata\\local\\programs\\python\\python312\\lib\\site-packages (from mne) (4.66.5)\n",
            "Requirement already satisfied: contourpy>=1.0.1 in c:\\users\\user\\appdata\\local\\programs\\python\\python312\\lib\\site-packages (from matplotlib>=3.6->mne) (1.3.0)\n",
            "Requirement already satisfied: cycler>=0.10 in c:\\users\\user\\appdata\\local\\programs\\python\\python312\\lib\\site-packages (from matplotlib>=3.6->mne) (0.12.1)\n",
            "Requirement already satisfied: fonttools>=4.22.0 in c:\\users\\user\\appdata\\local\\programs\\python\\python312\\lib\\site-packages (from matplotlib>=3.6->mne) (4.54.1)\n",
            "Requirement already satisfied: kiwisolver>=1.3.1 in c:\\users\\user\\appdata\\local\\programs\\python\\python312\\lib\\site-packages (from matplotlib>=3.6->mne) (1.4.7)\n",
            "Requirement already satisfied: pillow>=8 in c:\\users\\user\\appdata\\local\\programs\\python\\python312\\lib\\site-packages (from matplotlib>=3.6->mne) (10.4.0)\n",
            "Requirement already satisfied: pyparsing>=2.3.1 in c:\\users\\user\\appdata\\local\\programs\\python\\python312\\lib\\site-packages (from matplotlib>=3.6->mne) (3.1.4)\n",
            "Requirement already satisfied: python-dateutil>=2.7 in c:\\users\\user\\appdata\\local\\programs\\python\\python312\\lib\\site-packages (from matplotlib>=3.6->mne) (2.9.0.post0)\n",
            "Requirement already satisfied: platformdirs>=2.5.0 in c:\\users\\user\\appdata\\local\\programs\\python\\python312\\lib\\site-packages (from pooch>=1.5->mne) (4.3.6)\n",
            "Requirement already satisfied: requests>=2.19.0 in c:\\users\\user\\appdata\\local\\programs\\python\\python312\\lib\\site-packages (from pooch>=1.5->mne) (2.32.3)\n",
            "Requirement already satisfied: MarkupSafe>=2.0 in c:\\users\\user\\appdata\\local\\programs\\python\\python312\\lib\\site-packages (from jinja2->mne) (2.1.5)\n",
            "Requirement already satisfied: colorama in c:\\users\\user\\appdata\\local\\programs\\python\\python312\\lib\\site-packages (from tqdm->mne) (0.4.6)\n",
            "Requirement already satisfied: six>=1.5 in c:\\users\\user\\appdata\\local\\programs\\python\\python312\\lib\\site-packages (from python-dateutil>=2.7->matplotlib>=3.6->mne) (1.16.0)\n",
            "Requirement already satisfied: charset-normalizer<4,>=2 in c:\\users\\user\\appdata\\local\\programs\\python\\python312\\lib\\site-packages (from requests>=2.19.0->pooch>=1.5->mne) (3.3.2)\n",
            "Requirement already satisfied: idna<4,>=2.5 in c:\\users\\user\\appdata\\local\\programs\\python\\python312\\lib\\site-packages (from requests>=2.19.0->pooch>=1.5->mne) (3.10)\n",
            "Requirement already satisfied: urllib3<3,>=1.21.1 in c:\\users\\user\\appdata\\local\\programs\\python\\python312\\lib\\site-packages (from requests>=2.19.0->pooch>=1.5->mne) (2.2.3)\n",
            "Requirement already satisfied: certifi>=2017.4.17 in c:\\users\\user\\appdata\\local\\programs\\python\\python312\\lib\\site-packages (from requests>=2.19.0->pooch>=1.5->mne) (2024.8.30)\n"
          ]
        },
        {
          "name": "stderr",
          "output_type": "stream",
          "text": [
            "\n",
            "[notice] A new release of pip is available: 24.3.1 -> 25.0.1\n",
            "[notice] To update, run: python.exe -m pip install --upgrade pip\n"
          ]
        },
        {
          "name": "stdout",
          "output_type": "stream",
          "text": [
            "Requirement already satisfied: mne-icalabel in c:\\users\\user\\appdata\\local\\programs\\python\\python312\\lib\\site-packages (0.7.0)\n",
            "Requirement already satisfied: mne>=1.2 in c:\\users\\user\\appdata\\local\\programs\\python\\python312\\lib\\site-packages (from mne-icalabel) (1.8.0)\n",
            "Requirement already satisfied: numpy>=1.21 in c:\\users\\user\\appdata\\local\\programs\\python\\python312\\lib\\site-packages (from mne-icalabel) (2.1.2)\n",
            "Requirement already satisfied: packaging in c:\\users\\user\\appdata\\local\\programs\\python\\python312\\lib\\site-packages (from mne-icalabel) (24.1)\n",
            "Requirement already satisfied: pooch in c:\\users\\user\\appdata\\local\\programs\\python\\python312\\lib\\site-packages (from mne-icalabel) (1.8.2)\n",
            "Requirement already satisfied: psutil in c:\\users\\user\\appdata\\local\\programs\\python\\python312\\lib\\site-packages (from mne-icalabel) (6.1.0)\n",
            "Requirement already satisfied: scipy>=1.4.0 in c:\\users\\user\\appdata\\local\\programs\\python\\python312\\lib\\site-packages (from mne-icalabel) (1.14.1)\n",
            "Requirement already satisfied: decorator in c:\\users\\user\\appdata\\local\\programs\\python\\python312\\lib\\site-packages (from mne>=1.2->mne-icalabel) (5.1.1)\n",
            "Requirement already satisfied: jinja2 in c:\\users\\user\\appdata\\local\\programs\\python\\python312\\lib\\site-packages (from mne>=1.2->mne-icalabel) (3.1.4)\n",
            "Requirement already satisfied: lazy-loader>=0.3 in c:\\users\\user\\appdata\\local\\programs\\python\\python312\\lib\\site-packages (from mne>=1.2->mne-icalabel) (0.4)\n",
            "Requirement already satisfied: matplotlib>=3.6 in c:\\users\\user\\appdata\\local\\programs\\python\\python312\\lib\\site-packages (from mne>=1.2->mne-icalabel) (3.9.2)\n",
            "Requirement already satisfied: tqdm in c:\\users\\user\\appdata\\local\\programs\\python\\python312\\lib\\site-packages (from mne>=1.2->mne-icalabel) (4.66.5)\n",
            "Requirement already satisfied: platformdirs>=2.5.0 in c:\\users\\user\\appdata\\local\\programs\\python\\python312\\lib\\site-packages (from pooch->mne-icalabel) (4.3.6)\n",
            "Requirement already satisfied: requests>=2.19.0 in c:\\users\\user\\appdata\\local\\programs\\python\\python312\\lib\\site-packages (from pooch->mne-icalabel) (2.32.3)\n",
            "Requirement already satisfied: contourpy>=1.0.1 in c:\\users\\user\\appdata\\local\\programs\\python\\python312\\lib\\site-packages (from matplotlib>=3.6->mne>=1.2->mne-icalabel) (1.3.0)\n",
            "Requirement already satisfied: cycler>=0.10 in c:\\users\\user\\appdata\\local\\programs\\python\\python312\\lib\\site-packages (from matplotlib>=3.6->mne>=1.2->mne-icalabel) (0.12.1)\n",
            "Requirement already satisfied: fonttools>=4.22.0 in c:\\users\\user\\appdata\\local\\programs\\python\\python312\\lib\\site-packages (from matplotlib>=3.6->mne>=1.2->mne-icalabel) (4.54.1)\n",
            "Requirement already satisfied: kiwisolver>=1.3.1 in c:\\users\\user\\appdata\\local\\programs\\python\\python312\\lib\\site-packages (from matplotlib>=3.6->mne>=1.2->mne-icalabel) (1.4.7)\n",
            "Requirement already satisfied: pillow>=8 in c:\\users\\user\\appdata\\local\\programs\\python\\python312\\lib\\site-packages (from matplotlib>=3.6->mne>=1.2->mne-icalabel) (10.4.0)\n",
            "Requirement already satisfied: pyparsing>=2.3.1 in c:\\users\\user\\appdata\\local\\programs\\python\\python312\\lib\\site-packages (from matplotlib>=3.6->mne>=1.2->mne-icalabel) (3.1.4)\n",
            "Requirement already satisfied: python-dateutil>=2.7 in c:\\users\\user\\appdata\\local\\programs\\python\\python312\\lib\\site-packages (from matplotlib>=3.6->mne>=1.2->mne-icalabel) (2.9.0.post0)\n",
            "Requirement already satisfied: charset-normalizer<4,>=2 in c:\\users\\user\\appdata\\local\\programs\\python\\python312\\lib\\site-packages (from requests>=2.19.0->pooch->mne-icalabel) (3.3.2)\n",
            "Requirement already satisfied: idna<4,>=2.5 in c:\\users\\user\\appdata\\local\\programs\\python\\python312\\lib\\site-packages (from requests>=2.19.0->pooch->mne-icalabel) (3.10)\n",
            "Requirement already satisfied: urllib3<3,>=1.21.1 in c:\\users\\user\\appdata\\local\\programs\\python\\python312\\lib\\site-packages (from requests>=2.19.0->pooch->mne-icalabel) (2.2.3)\n",
            "Requirement already satisfied: certifi>=2017.4.17 in c:\\users\\user\\appdata\\local\\programs\\python\\python312\\lib\\site-packages (from requests>=2.19.0->pooch->mne-icalabel) (2024.8.30)\n",
            "Requirement already satisfied: MarkupSafe>=2.0 in c:\\users\\user\\appdata\\local\\programs\\python\\python312\\lib\\site-packages (from jinja2->mne>=1.2->mne-icalabel) (2.1.5)\n",
            "Requirement already satisfied: colorama in c:\\users\\user\\appdata\\local\\programs\\python\\python312\\lib\\site-packages (from tqdm->mne>=1.2->mne-icalabel) (0.4.6)\n",
            "Requirement already satisfied: six>=1.5 in c:\\users\\user\\appdata\\local\\programs\\python\\python312\\lib\\site-packages (from python-dateutil>=2.7->matplotlib>=3.6->mne>=1.2->mne-icalabel) (1.16.0)\n"
          ]
        },
        {
          "name": "stderr",
          "output_type": "stream",
          "text": [
            "\n",
            "[notice] A new release of pip is available: 24.3.1 -> 25.0.1\n",
            "[notice] To update, run: python.exe -m pip install --upgrade pip\n"
          ]
        },
        {
          "name": "stdout",
          "output_type": "stream",
          "text": [
            "Requirement already satisfied: keras-tuner in c:\\users\\user\\appdata\\local\\programs\\python\\python312\\lib\\site-packages (1.4.7)\n",
            "Requirement already satisfied: keras in c:\\users\\user\\appdata\\local\\programs\\python\\python312\\lib\\site-packages (from keras-tuner) (3.9.0)\n",
            "Requirement already satisfied: packaging in c:\\users\\user\\appdata\\local\\programs\\python\\python312\\lib\\site-packages (from keras-tuner) (24.1)\n",
            "Requirement already satisfied: requests in c:\\users\\user\\appdata\\local\\programs\\python\\python312\\lib\\site-packages (from keras-tuner) (2.32.3)\n",
            "Requirement already satisfied: kt-legacy in c:\\users\\user\\appdata\\local\\programs\\python\\python312\\lib\\site-packages (from keras-tuner) (1.0.5)\n",
            "Requirement already satisfied: absl-py in c:\\users\\user\\appdata\\local\\programs\\python\\python312\\lib\\site-packages (from keras->keras-tuner) (2.1.0)\n",
            "Requirement already satisfied: numpy in c:\\users\\user\\appdata\\local\\programs\\python\\python312\\lib\\site-packages (from keras->keras-tuner) (2.1.2)\n",
            "Requirement already satisfied: rich in c:\\users\\user\\appdata\\local\\programs\\python\\python312\\lib\\site-packages (from keras->keras-tuner) (13.9.4)\n",
            "Requirement already satisfied: namex in c:\\users\\user\\appdata\\local\\programs\\python\\python312\\lib\\site-packages (from keras->keras-tuner) (0.0.8)\n",
            "Requirement already satisfied: h5py in c:\\users\\user\\appdata\\local\\programs\\python\\python312\\lib\\site-packages (from keras->keras-tuner) (3.13.0)\n",
            "Requirement already satisfied: optree in c:\\users\\user\\appdata\\local\\programs\\python\\python312\\lib\\site-packages (from keras->keras-tuner) (0.14.1)\n",
            "Requirement already satisfied: ml-dtypes in c:\\users\\user\\appdata\\local\\programs\\python\\python312\\lib\\site-packages (from keras->keras-tuner) (0.5.1)\n",
            "Requirement already satisfied: charset-normalizer<4,>=2 in c:\\users\\user\\appdata\\local\\programs\\python\\python312\\lib\\site-packages (from requests->keras-tuner) (3.3.2)\n",
            "Requirement already satisfied: idna<4,>=2.5 in c:\\users\\user\\appdata\\local\\programs\\python\\python312\\lib\\site-packages (from requests->keras-tuner) (3.10)\n",
            "Requirement already satisfied: urllib3<3,>=1.21.1 in c:\\users\\user\\appdata\\local\\programs\\python\\python312\\lib\\site-packages (from requests->keras-tuner) (2.2.3)\n",
            "Requirement already satisfied: certifi>=2017.4.17 in c:\\users\\user\\appdata\\local\\programs\\python\\python312\\lib\\site-packages (from requests->keras-tuner) (2024.8.30)\n",
            "Requirement already satisfied: typing-extensions>=4.5.0 in c:\\users\\user\\appdata\\local\\programs\\python\\python312\\lib\\site-packages (from optree->keras->keras-tuner) (4.12.2)\n",
            "Requirement already satisfied: markdown-it-py>=2.2.0 in c:\\users\\user\\appdata\\local\\programs\\python\\python312\\lib\\site-packages (from rich->keras->keras-tuner) (3.0.0)\n",
            "Requirement already satisfied: pygments<3.0.0,>=2.13.0 in c:\\users\\user\\appdata\\roaming\\python\\python312\\site-packages (from rich->keras->keras-tuner) (2.19.1)\n",
            "Requirement already satisfied: mdurl~=0.1 in c:\\users\\user\\appdata\\local\\programs\\python\\python312\\lib\\site-packages (from markdown-it-py>=2.2.0->rich->keras->keras-tuner) (0.1.2)\n"
          ]
        },
        {
          "name": "stderr",
          "output_type": "stream",
          "text": [
            "\n",
            "[notice] A new release of pip is available: 24.3.1 -> 25.0.1\n",
            "[notice] To update, run: python.exe -m pip install --upgrade pip\n"
          ]
        }
      ],
      "source": [
        "!pip install mne\n",
        "!pip install mne-icalabel\n",
        "!pip install keras-tuner\n"
      ]
    },
    {
      "cell_type": "code",
      "execution_count": 2,
      "metadata": {
        "colab": {
          "base_uri": "https://localhost:8080/"
        },
        "id": "qFZ5vpUXjekF",
        "outputId": "a67a31e2-b231-4131-b910-1f6060d4f54a"
      },
      "outputs": [
        {
          "name": "stdout",
          "output_type": "stream",
          "text": [
            "Libraries imported and constants initialized.\n"
          ]
        }
      ],
      "source": [
        "# Import necessary libraries\n",
        "import os\n",
        "import pandas as pd\n",
        "import numpy as np\n",
        "import matplotlib.pyplot as plt\n",
        "import mne\n",
        "from mne.preprocessing import ICA\n",
        "from mne_icalabel import label_components\n",
        "import re\n",
        "import tensorflow as tf\n",
        "from sklearn.model_selection import train_test_split\n",
        "from sklearn.preprocessing import LabelEncoder\n",
        "from tensorflow.keras.models import Sequential\n",
        "from tensorflow.keras.layers import LSTM, Dense, Dropout\n",
        "from tensorflow.keras.utils import to_categorical\n",
        "from keras_tuner.tuners import RandomSearch\n",
        "from tensorflow.keras.applications import ResNet50\n",
        "from tensorflow.keras.layers import Input, Flatten, Dense, Dropout\n",
        "from tensorflow.keras.models import Model\n",
        "from tensorflow.keras.optimizers import Adam\n",
        "import tensorflow as tf\n",
        "\n",
        "# Constants\n",
        "FS = 128  # Sampling frequency\n",
        "METADATA_COLUMNS =  [\n",
        "    'EEG.Counter', 'EEG.Interpolated', 'EEG.RawCq', 'EEG.Battery',\n",
        "    'EEG.BatteryPercent', 'EEG.MarkerHardware'\n",
        "]\n",
        "\n",
        "print(\"Libraries imported and constants initialized.\")"
      ]
    },
    {
      "cell_type": "code",
      "execution_count": null,
      "metadata": {
        "colab": {
          "base_uri": "https://localhost:8080/"
        },
        "id": "UnOfS4qMmZYe",
        "outputId": "3cd1d3ec-b743-4259-c4c0-ea7f735888e0"
      },
      "outputs": [
        {
          "name": "stdout",
          "output_type": "stream",
          "text": [
            "📂 Reading file: C:/Users/User/Desktop/letters.csv\n",
            "🆔 Assigning participant name: Unknown\n"
          ]
        }
      ],
      "source": [
        "import os\n",
        "import pandas as pd\n",
        "import re\n",
        "\n",
        "# Function to load a single participant CSV file\n",
        "def load_single_csv(file_path):\n",
        "    if not isinstance(file_path, str) or not os.path.isfile(file_path) or not file_path.endswith('.csv'):\n",
        "        print(f\"❌ Invalid file: {file_path} (Must be a valid .csv file)\")\n",
        "        return None\n",
        "\n",
        "    print(f\"📂 Reading file: {file_path}\")\n",
        "    try:\n",
        "        # Read CSV while skipping the first row\n",
        "        df = pd.read_csv(file_path, skiprows=1)\n",
        "\n",
        "        # Extract participant name from the filename using regex\n",
        "        filename = os.path.basename(file_path)\n",
        "        match = re.search(r'(par\\.\\d+)', filename)\n",
        "        participant_name = match.group(0) if match else \"Unknown\"\n",
        "\n",
        "        print(f\"🆔 Assigning participant name: {participant_name}\")\n",
        "        df['Participant'] = participant_name  # Add participant name column\n",
        "\n",
        "        return df\n",
        "\n",
        "    except Exception as e:\n",
        "        print(f\"⚠️ Error reading {file_path}: {e}\")\n",
        "        return None\n",
        "participant_data = load_single_csv(r\"C:/Users/malak/OneDrive/Desktop/letters.csv\")\n",
        "# Use the injected CSV_FILE_PATH from Flask API\n",
        "# if 'CSV_FILE_PATH' in globals():\n",
        "#     global participant_data\n",
        "#     participant_data = load_single_csv(CSV_FILE_PATH)\n",
        "#     # single_csv_data = load_single_csv(CSV_FILE_PATH)\n",
        "    \n",
        "#     # Print a preview of the loaded data\n",
        "#     if participant_data is not None:\n",
        "#         print(\"✅ Data Loaded Successfully:\")\n",
        "#         print(participant_data.head())\n",
        "#     else:\n",
        "#         print(\"❌ Failed to load CSV data.\")\n",
        "# else:\n",
        "#     print(\"⚠️ No CSV file path provided. Ensure CSV_FILE_PATH is set.\")\n"
      ]
    },
    {
      "cell_type": "code",
      "execution_count": 5,
      "metadata": {
        "colab": {
          "base_uri": "https://localhost:8080/"
        },
        "id": "BanWZz1Luc7i",
        "outputId": "5d1be7ee-8783-4aa0-d53c-cc06a23aeb86"
      },
      "outputs": [
        {
          "name": "stdout",
          "output_type": "stream",
          "text": [
            "Validating data with shape: (1384, 69)\n",
            "Validated EEG Data:\n",
            "       EEG.AF3       EEG.F7       EEG.F3      EEG.FC5       EEG.T7  \\\n",
            "0  4259.358887  4317.563965  4332.179688  4329.230957  4306.025879   \n",
            "1  4264.102539  4319.358887  4336.538574  4336.538574  4305.128418   \n",
            "2  4282.179688  4332.307617  4347.820313  4343.717773  4310.512695   \n",
            "3  4299.743652  4339.487305  4362.307617  4348.974121  4315.256348   \n",
            "4  4306.538574  4338.077148  4369.871582  4354.102539  4311.922852   \n",
            "\n",
            "        EEG.P7       EEG.O1       EEG.O2       EEG.P8       EEG.T8  \\\n",
            "0  4296.410156  4291.922852  4289.615234  4285.769043  4236.153809   \n",
            "1  4304.358887  4295.769043  4289.615234  4290.512695  4243.717773   \n",
            "2  4314.358887  4295.769043  4293.974121  4295.000000  4249.743652   \n",
            "3  4311.666504  4297.948730  4294.615234  4295.384766  4251.282227   \n",
            "4  4306.666504  4299.358887  4292.820313  4287.563965  4256.410156   \n",
            "\n",
            "       EEG.FC6       EEG.F4       EEG.F8      EEG.AF4  \n",
            "0  4343.589844  4427.436035  4305.769043  4335.256348  \n",
            "1  4351.538574  4434.487305  4313.205078  4340.897461  \n",
            "2  4360.256348  4446.922852  4329.230957  4355.000000  \n",
            "3  4373.461426  4464.871582  4338.974121  4371.794922  \n",
            "4  4387.820313  4478.077148  4344.743652  4383.205078  \n"
          ]
        }
      ],
      "source": [
        "# Function to validate EEG data for a single DataFrame\n",
        "def validate_eeg_data(df):\n",
        "    if df is None or df.empty:\n",
        "        print(\"Received an empty DataFrame. Skipping validation.\")\n",
        "        return None, None\n",
        "\n",
        "    # Identify EEG signal columns (those starting with 'EEG.' and not in metadata)\n",
        "    valid_columns = [col for col in df.columns if col.startswith('EEG.') and col not in METADATA_COLUMNS]\n",
        "\n",
        "    if not valid_columns:\n",
        "        print(f\"No valid EEG signal columns identified. Skipping this DataFrame.\")\n",
        "        return None, None  # Return None for both validated data and valid columns\n",
        "\n",
        "    print(f\"Validating data with shape: {df.shape}\")\n",
        "    return df[valid_columns].copy(), valid_columns  # Return DataFrame with valid EEG columns\n",
        "\n",
        "# Validate the EEG data for the single participant\n",
        "if participant_data is not None:\n",
        "    validated_data, valid_columns = validate_eeg_data(participant_data)\n",
        "\n",
        "    if validated_data is not None:\n",
        "        print(f\"Validated EEG Data:\\n{validated_data.head()}\")  # Display a preview\n",
        "    else:\n",
        "        print(\"No valid EEG data found.\")\n",
        "else:\n",
        "    print(\"Failed to load CSV file.\")\n"
      ]
    },
    {
      "cell_type": "code",
      "execution_count": 6,
      "metadata": {
        "colab": {
          "base_uri": "https://localhost:8080/"
        },
        "id": "bHFPALP6ugcU",
        "outputId": "2524178d-b21e-45b1-ea2b-456b78d97d1e"
      },
      "outputs": [
        {
          "name": "stdout",
          "output_type": "stream",
          "text": [
            "\n",
            "Detecting bad channels...\n",
            "Detected bad channels: []\n",
            "\n",
            "Cleaning bad channels (including O2 and FC6)...\n",
            "Dropped bad channels: {'EEG.FC6', 'EEG.O2'}\n",
            "Shape after cleaning: (1384, 12)\n",
            "\n",
            "Finished processing participant's EEG data.\n",
            "Final cleaned EEG data and bad channels are ready for use.\n"
          ]
        }
      ],
      "source": [
        "# Define channels to always drop\n",
        "CHANNELS_TO_ALWAYS_DROP = ['EEG.O2', 'EEG.FC6']\n",
        "\n",
        "# Function to detect bad channels\n",
        "def detect_bad_channels(eeg_data, valid_columns, z_threshold=3.0):\n",
        "    if eeg_data is None or eeg_data.empty:\n",
        "        print(\"No EEG data available for bad channel detection.\")\n",
        "        return []\n",
        "\n",
        "    bad_channels = []\n",
        "    channel_variances = eeg_data.var(axis=0)\n",
        "    z_scores = (channel_variances - channel_variances.mean()) / channel_variances.std()\n",
        "\n",
        "    for idx, z in enumerate(z_scores):\n",
        "        if abs(z) > z_threshold:\n",
        "            bad_channels.append(valid_columns[idx])\n",
        "\n",
        "    print(f\"Detected bad channels: {bad_channels}\")\n",
        "    return bad_channels\n",
        "\n",
        "# Function to clean specified bad channels and always drop O2 and FC6\n",
        "def clean_bad_channels(eeg_data, bad_channels):\n",
        "    if eeg_data is None or eeg_data.empty:\n",
        "        print(\"No EEG data available for cleaning.\")\n",
        "        return None\n",
        "\n",
        "    all_bad_channels = set(bad_channels + CHANNELS_TO_ALWAYS_DROP)  # Combine both lists\n",
        "    eeg_data_cleaned = eeg_data.drop(columns=[col for col in all_bad_channels if col in eeg_data.columns])\n",
        "\n",
        "    print(f\"Dropped bad channels: {all_bad_channels}\")\n",
        "    print(f\"Shape after cleaning: {eeg_data_cleaned.shape}\")\n",
        "    return eeg_data_cleaned\n",
        "\n",
        "# Process single participant's EEG data\n",
        "def process_single_participant(validated_data, valid_columns, z_threshold=3.0):\n",
        "    if validated_data is None or validated_data.empty:\n",
        "        print(\"No valid EEG data available for processing.\")\n",
        "        return None, []\n",
        "\n",
        "    print(\"\\nDetecting bad channels...\")\n",
        "    bad_channels = detect_bad_channels(validated_data, valid_columns, z_threshold)\n",
        "\n",
        "    print(\"\\nCleaning bad channels (including O2 and FC6)...\")\n",
        "    cleaned_data = clean_bad_channels(validated_data, bad_channels)\n",
        "\n",
        "    print(\"\\nFinished processing participant's EEG data.\")\n",
        "    return cleaned_data, bad_channels\n",
        "\n",
        "# Example usage\n",
        "if validated_data is not None:\n",
        "    cleaned_data, bad_channels = process_single_participant(validated_data, valid_columns)\n",
        "    print(\"Final cleaned EEG data and bad channels are ready for use.\")\n"
      ]
    },
    {
      "cell_type": "code",
      "execution_count": 8,
      "metadata": {
        "colab": {
          "base_uri": "https://localhost:8080/"
        },
        "id": "ASJMM6DjuuIz",
        "outputId": "b120da22-92af-4f32-c425-3eeeafffa55d"
      },
      "outputs": [
        {
          "name": "stdout",
          "output_type": "stream",
          "text": [
            "\n",
            "Creating MNE Raw object for the participant...\n",
            "Creating RawArray with float64 data, n_channels=12, n_times=1384\n",
            "    Range : 0 ... 1383 =      0.000 ...    10.805 secs\n",
            "Ready.\n",
            "Created MNE Raw object.\n",
            "Successfully created and renamed MNE Raw object for the participant.\n"
          ]
        }
      ],
      "source": [
        "import mne\n",
        "\n",
        "# Function to create an MNE Raw object\n",
        "def create_raw_object(eeg_data):\n",
        "    if eeg_data is None or eeg_data.empty:\n",
        "        print(\"No EEG data available to create an MNE Raw object.\")\n",
        "        return None\n",
        "\n",
        "    data = eeg_data.to_numpy().T\n",
        "    ch_names = eeg_data.columns.tolist()\n",
        "    info = mne.create_info(ch_names=ch_names, sfreq=FS, ch_types=['eeg'] * len(ch_names))\n",
        "    raw = mne.io.RawArray(data, info)\n",
        "    print(\"Created MNE Raw object.\")\n",
        "    return raw\n",
        "\n",
        "# Function to filter rename_dict to exclude bad channels\n",
        "def filter_rename_dict(rename_dict, bad_channels):\n",
        "    return {key: value for key, value in rename_dict.items() if key not in bad_channels}\n",
        "\n",
        "# Process cleaned data to create an MNE Raw object for the single participant\n",
        "if cleaned_data is not None:\n",
        "    print(\"\\nCreating MNE Raw object for the participant...\")\n",
        "\n",
        "    try:\n",
        "        raw_object = create_raw_object(cleaned_data)\n",
        "\n",
        "        # Define standard channel renaming dictionary\n",
        "        rename_dict = {\n",
        "            'EEG.AF3': 'AF3', 'EEG.AF4': 'AF4', 'EEG.F7': 'F7',\n",
        "            'EEG.F3': 'F3', 'EEG.FC5': 'FC5', 'EEG.T7': 'T7',\n",
        "            'EEG.P7': 'P7', 'EEG.O1': 'O1',\n",
        "            'EEG.P8': 'P8', 'EEG.T8': 'T8',\n",
        "            'EEG.F4': 'F4', 'EEG.F8': 'F8'\n",
        "        }\n",
        "\n",
        "        # Filter out bad channels from rename_dict\n",
        "        filtered_rename_dict = filter_rename_dict(rename_dict, bad_channels)\n",
        "\n",
        "        if raw_object:\n",
        "            raw_object.rename_channels(filtered_rename_dict)\n",
        "            print(\"Successfully created and renamed MNE Raw object for the participant.\")\n",
        "\n",
        "    except Exception as e:\n",
        "        print(f\"Failed to create Raw object: {e}\")\n",
        "else:\n",
        "    print(\"No cleaned EEG data available for MNE processing.\")\n"
      ]
    },
    {
      "cell_type": "code",
      "execution_count": 9,
      "metadata": {
        "colab": {
          "base_uri": "https://localhost:8080/"
        },
        "id": "0Jeaqkq9u7p_",
        "outputId": "4ba24643-907e-43bc-d79d-0269357c3e47"
      },
      "outputs": [
        {
          "name": "stdout",
          "output_type": "stream",
          "text": [
            "\n",
            "Processing Raw object for the participant...\n",
            "Filtering raw data in 1 contiguous segment\n",
            "Setting up band-stop filter from 49 - 51 Hz\n",
            "\n",
            "FIR filter parameters\n",
            "---------------------\n",
            "Designing a one-pass, zero-phase, non-causal bandstop filter:\n",
            "- Windowed time-domain design (firwin) method\n",
            "- Hamming window with 0.0194 passband ripple and 53 dB stopband attenuation\n",
            "- Lower passband edge: 49.38\n",
            "- Lower transition bandwidth: 0.50 Hz (-6 dB cutoff frequency: 49.12 Hz)\n",
            "- Upper passband edge: 50.62 Hz\n",
            "- Upper transition bandwidth: 0.50 Hz (-6 dB cutoff frequency: 50.88 Hz)\n",
            "- Filter length: 845 samples (6.602 s)\n",
            "\n",
            "Filtering raw data in 1 contiguous segment\n",
            "Setting up band-pass filter from 1 - 50 Hz\n",
            "\n",
            "FIR filter parameters\n",
            "---------------------\n",
            "Designing a one-pass, zero-phase, non-causal bandpass filter:\n",
            "- Windowed time-domain design (firwin) method\n",
            "- Hamming window with 0.0194 passband ripple and 53 dB stopband attenuation\n",
            "- Lower passband edge: 1.00\n",
            "- Lower transition bandwidth: 1.00 Hz (-6 dB cutoff frequency: 0.50 Hz)\n",
            "- Upper passband edge: 50.00 Hz\n",
            "- Upper transition bandwidth: 12.50 Hz (-6 dB cutoff frequency: 56.25 Hz)\n",
            "- Filter length: 423 samples (3.305 s)\n",
            "\n",
            "EEG channel type selected for re-referencing\n",
            "Adding average EEG reference projection.\n",
            "1 projection items deactivated\n",
            "Average reference projection was added, but has not been applied yet. Use the apply_proj method to apply it.\n",
            "Applied filters and average referencing.\n",
            "No NaN or Inf values detected.\n",
            "Fitting ICA to data using 12 channels (please be patient, this may take a while)\n",
            "Selecting by number: 12 components\n",
            "Computing Extended Infomax ICA\n",
            "Fitting ICA took 1.1s.\n"
          ]
        },
        {
          "name": "stderr",
          "output_type": "stream",
          "text": [
            "C:\\Users\\User\\AppData\\Local\\Temp\\ipykernel_9948\\2678825756.py:35: RuntimeWarning: The provided Raw instance does not seem to be referenced to a common average reference (CAR). ICLabel was designed to classify features extracted from an EEG dataset referenced to a CAR (see the 'set_eeg_reference()' method for Raw and Epochs instances).\n",
            "  ic_labels = label_components(raw, ica, method=\"iclabel\")\n",
            "C:\\Users\\User\\AppData\\Local\\Temp\\ipykernel_9948\\2678825756.py:35: RuntimeWarning: The provided Raw instance is not filtered between 1 and 100 Hz. ICLabel was designed to classify features extracted from an EEG dataset bandpass filtered between 1 and 100 Hz (see the 'filter()' method for Raw and Epochs instances).\n",
            "  ic_labels = label_components(raw, ica, method=\"iclabel\")\n"
          ]
        },
        {
          "name": "stdout",
          "output_type": "stream",
          "text": [
            "Applying ICA to Raw instance\n",
            "    Transforming to ICA space (12 components)\n",
            "    Zeroing out 5 ICA components\n",
            "    Projecting back using 12 PCA components\n",
            "Excluded components: [0, 4, 7, 8, 10]\n",
            "Successfully processed and cleaned the Raw object for the participant.\n"
          ]
        }
      ],
      "source": [
        "import numpy as np\n",
        "import mne\n",
        "from mne.preprocessing import ICA\n",
        "from mne_icalabel import label_components\n",
        "\n",
        "# Apply filters and referencing to the Raw object\n",
        "def apply_filters_and_reference(raw):\n",
        "    raw.notch_filter(freqs=50.0)\n",
        "    raw.filter(l_freq=1.0, h_freq=50.0)\n",
        "    raw.set_eeg_reference('average', projection=True)\n",
        "\n",
        "    # Remove non-EEG channels\n",
        "    non_eeg_channels = ['EEG.Counter', 'EEG.Interpolated', 'EEG.Battery', 'EEG.BatteryPercent', 'EEG.MarkerHardware']\n",
        "    existing_channels = [ch for ch in non_eeg_channels if ch in raw.ch_names]  # Only remove if they exist\n",
        "    if existing_channels:\n",
        "        raw.drop_channels(existing_channels)\n",
        "        print(f\"Removed non-EEG channels: {existing_channels}\")\n",
        "\n",
        "    # Apply standard 10-20 montage\n",
        "    montage = mne.channels.make_standard_montage('standard_1020')\n",
        "    raw.set_montage(montage, on_missing='ignore')\n",
        "\n",
        "    print(\"Applied filters and average referencing.\")\n",
        "    return raw\n",
        "\n",
        "\n",
        "# Perform ICA and clean artifacts\n",
        "def perform_ica(raw, brain_threshold=0.5):\n",
        "    if raw is None:\n",
        "        print(\"No Raw object available for ICA.\")\n",
        "        return None\n",
        "\n",
        "    ica = ICA(method='infomax', fit_params={'extended': True}, n_components=12, max_iter=1000)\n",
        "    ica.fit(raw)\n",
        "    ic_labels = label_components(raw, ica, method=\"iclabel\")\n",
        "\n",
        "    non_brain_components = [\n",
        "        idx for idx, (label, prob) in enumerate(zip(ic_labels['labels'], ic_labels['y_pred_proba']))\n",
        "        if label != 'brain' or prob < brain_threshold\n",
        "    ]\n",
        "    ica.exclude = non_brain_components\n",
        "    raw_cleaned = ica.apply(raw)\n",
        "    print(f\"Excluded components: {non_brain_components}\")\n",
        "    return raw_cleaned\n",
        "\n",
        "# Function to check and clean NaN/Inf values from raw data\n",
        "def clean_nan_inf(raw):\n",
        "    if raw is None:\n",
        "        print(\"No Raw object available for NaN/Inf cleaning.\")\n",
        "        return None\n",
        "\n",
        "    data = raw.get_data()\n",
        "    if np.isnan(data).any() or np.isinf(data).any():\n",
        "        print(\"Detected NaN or Inf values in the data.\")\n",
        "        for i in range(data.shape[0]):  # Iterate over channels\n",
        "            channel_data = data[i, :]\n",
        "            if np.isnan(channel_data).any() or np.isinf(channel_data).any():\n",
        "                channel_mean = np.nanmean(channel_data)\n",
        "                channel_data[np.isnan(channel_data)] = channel_mean\n",
        "                channel_data[np.isinf(channel_data)] = channel_mean\n",
        "                data[i, :] = channel_data\n",
        "        print(\"Replaced NaN/Inf values with channel mean.\")\n",
        "    else:\n",
        "        print(\"No NaN or Inf values detected.\")\n",
        "\n",
        "    raw._data = data  # Update the raw object\n",
        "    return raw\n",
        "\n",
        "# Process the single participant's Raw object\n",
        "if raw_object is not None:\n",
        "    print(\"\\nProcessing Raw object for the participant...\")\n",
        "\n",
        "    try:\n",
        "        # Apply filters and reference\n",
        "        filtered_and_referenced_raw = apply_filters_and_reference(raw_object)\n",
        "\n",
        "        # Clean NaN/Inf values\n",
        "        cleaned_raw = clean_nan_inf(filtered_and_referenced_raw)\n",
        "\n",
        "        # Perform ICA and clean artifacts\n",
        "        cleaned_raw = perform_ica(cleaned_raw)\n",
        "\n",
        "        print(\"Successfully processed and cleaned the Raw object for the participant.\")\n",
        "\n",
        "    except Exception as e:\n",
        "        print(f\"Failed to process Raw object: {e}\")\n",
        "\n",
        "else:\n",
        "    print(\"No valid Raw object available for processing.\")\n"
      ]
    },
    {
      "cell_type": "code",
      "execution_count": null,
      "metadata": {
        "colab": {
          "base_uri": "https://localhost:8080/",
          "height": 1000
        },
        "id": "alHMBz85w8Hk",
        "outputId": "122ddf46-ce4e-4589-913f-865bedcc879c"
      },
      "outputs": [
        {
          "name": "stdout",
          "output_type": "stream",
          "text": [
            "\n",
            "Processing Raw object for the participant...\n",
            "Setting channel interpolation method to {'eeg': 'spline'}.\n"
          ]
        },
        {
          "name": "stdout",
          "output_type": "stream",
          "text": [
            "Remaining NaN values after interpolation per column:\n",
            "AF3    0\n",
            "F7     0\n",
            "F3     0\n",
            "FC5    0\n",
            "T7     0\n",
            "P7     0\n",
            "O1     0\n",
            "P8     0\n",
            "T8     0\n",
            "F4     0\n",
            "F8     0\n",
            "AF4    0\n",
            "dtype: int64\n",
            "Remaining NaN values after interpolation: AF3    0\n",
            "F7     0\n",
            "F3     0\n",
            "FC5    0\n",
            "T7     0\n",
            "P7     0\n",
            "O1     0\n",
            "P8     0\n",
            "T8     0\n",
            "F4     0\n",
            "F8     0\n",
            "AF4    0\n",
            "dtype: int64\n",
            "Setting channel interpolation method to {'eeg': 'spline'}.\n",
            "Creating RawArray with float64 data, n_channels=12, n_times=1384\n",
            "    Range : 0 ... 1383 =      0.000 ...    10.805 secs\n",
            "Ready.\n",
            "Successfully processed and cleaned the Raw object after interpolation and NaN handling.\n"
          ]
        },
        {
          "name": "stderr",
          "output_type": "stream",
          "text": [
            "C:\\Users\\User\\AppData\\Local\\Temp\\ipykernel_9948\\845367928.py:13: RuntimeWarning: No bad channels to interpolate. Doing nothing...\n",
            "  raw_cleaned.interpolate_bads(reset_bads=True)  # Interpolate bad channels\n",
            "C:\\Users\\User\\AppData\\Local\\Temp\\ipykernel_9948\\845367928.py:34: FutureWarning: DataFrame.fillna with 'method' is deprecated and will raise in a future version. Use obj.ffill() or obj.bfill() instead.\n",
            "  eeg_data_interpolated = eeg_data_interpolated.fillna(method='ffill').fillna(method='bfill')\n",
            "C:\\Users\\User\\AppData\\Local\\Temp\\ipykernel_9948\\845367928.py:42: RuntimeWarning: No bad channels to interpolate. Doing nothing...\n",
            "  raw_cleaned.interpolate_bads(reset_bads=True)\n"
          ]
        }
      ],
      "source": [
        "import pandas as pd\n",
        "import mne\n",
        "\n",
        "# Interpolation and NaN handling for the Raw object after ICA and filtering\n",
        "def interpolate_and_handle_nans(raw_cleaned):\n",
        "    try:\n",
        "        if raw_cleaned is None:\n",
        "            print(\"No Raw object available for interpolation and NaN handling.\")\n",
        "            return None\n",
        "\n",
        "        # Step 1: Interpolate bad channels\n",
        "        bad_channels = raw_cleaned.info['bads']\n",
        "        raw_cleaned.interpolate_bads(reset_bads=True)  # Interpolate bad channels\n",
        "        # raw_cleaned.plot(n_channels=12, scalings=dict(eeg=50e-6))\n",
        "\n",
        "        # Step 2: Handle NaN values in the EEG data\n",
        "        eeg_data = pd.DataFrame(raw_cleaned.get_data().T, columns=raw_cleaned.ch_names)\n",
        "        nan_locations = eeg_data.isna()\n",
        "\n",
        "        # Print locations of NaN values\n",
        "        if nan_locations.any().any():\n",
        "            print(\"NaN values found in the following locations:\")\n",
        "            print(nan_locations)\n",
        "\n",
        "        # Step 3: Interpolate NaN values in the EEG data\n",
        "        eeg_data_interpolated = eeg_data.interpolate(method='linear', axis=0)\n",
        "\n",
        "        # Step 4: Check if any NaN values remain after interpolation\n",
        "        nan_check = eeg_data_interpolated.isna().sum()\n",
        "        print(\"Remaining NaN values after interpolation per column:\")\n",
        "        print(nan_check)\n",
        "\n",
        "        # Step 5: Replace remaining NaNs with forward fill or backward fill\n",
        "        eeg_data_interpolated = eeg_data_interpolated.fillna(method='ffill').fillna(method='bfill')\n",
        "\n",
        "        # Final check for remaining NaN values\n",
        "        remaining_nans = eeg_data_interpolated.isna().sum()\n",
        "        print(f\"Remaining NaN values after interpolation: {remaining_nans}\")\n",
        "\n",
        "        # Step 6: Mark and interpolate bad channels in the Raw object\n",
        "        raw_cleaned.info['bads'] = [ch for ch in bad_channels if ch in raw_cleaned.info['ch_names']]\n",
        "        raw_cleaned.interpolate_bads(reset_bads=True)\n",
        "\n",
        "        # Update Raw object with interpolated EEG data\n",
        "        raw_cleaned = mne.io.RawArray(eeg_data_interpolated.T.to_numpy(), raw_cleaned.info)\n",
        "        return raw_cleaned\n",
        "\n",
        "    except Exception as e:\n",
        "        print(f\"Error during interpolation and NaN handling: {e}\")\n",
        "        return raw_cleaned\n",
        "\n",
        "# Process the single participant's Raw object\n",
        "if cleaned_raw is not None:\n",
        "    print(\"\\nProcessing Raw object for the participant...\")\n",
        "\n",
        "    try:\n",
        "        # Apply interpolation and NaN handling\n",
        "        interpolated_raw = interpolate_and_handle_nans(cleaned_raw)\n",
        "\n",
        "        print(\"Successfully processed and cleaned the Raw object after interpolation and NaN handling.\")\n",
        "\n",
        "    except Exception as e:\n",
        "        print(f\"Failed to process Raw object: {e}\")\n",
        "\n",
        "else:\n",
        "    print(\"No valid Raw object available for processing.\")\n"
      ]
    },
    {
      "cell_type": "code",
      "execution_count": 11,
      "metadata": {
        "colab": {
          "base_uri": "https://localhost:8080/"
        },
        "id": "u510nLiGxOAP",
        "outputId": "80e4cab2-8a89-419f-cada-158f4fcfd24d"
      },
      "outputs": [
        {
          "name": "stdout",
          "output_type": "stream",
          "text": [
            "Applied Z-score normalization (zero mean, unit variance).\n",
            "Successfully applied Z-score normalization to the participant's EEG data.\n",
            "Mean of Z-score normalized data: [ 5.13397930e-18  2.56698965e-17 -1.54019379e-17  1.54019379e-17\n",
            " -1.02679586e-17  1.54019379e-17  2.56698965e-18  1.79689276e-17\n",
            " -3.59378551e-17 -2.82368862e-17 -5.13397930e-18 -2.05359172e-17]\n",
            "Standard deviation of Z-score normalized data: [1. 1. 1. 1. 1. 1. 1. 1. 1. 1. 1. 1.]\n"
          ]
        }
      ],
      "source": [
        "import numpy as np\n",
        "\n",
        "def z_score_normalize_eeg_data(raw):\n",
        "    \"\"\"\n",
        "    Normalize the EEG data in the Raw object using Z-score normalization\n",
        "    (zero mean, unit variance), avoiding division by zero.\n",
        "    \"\"\"\n",
        "    eeg_data = raw.get_data()  # Extract EEG data\n",
        "    mean = np.mean(eeg_data, axis=1, keepdims=True)  # Compute the mean for each channel\n",
        "\n",
        "    # Compute standard deviation, adding a small epsilon to avoid division by zero\n",
        "    epsilon = 1e-8  # Small value to prevent division by zero\n",
        "    std = np.std(eeg_data, axis=1, keepdims=True) + epsilon\n",
        "\n",
        "    # Z-score normalization\n",
        "    normalized_data = (eeg_data - mean) / std\n",
        "\n",
        "    # Replace the data in the Raw object with normalized data\n",
        "    raw._data = normalized_data\n",
        "    print(\"Applied Z-score normalization (zero mean, unit variance).\")\n",
        "    return raw\n",
        "\n",
        "# Apply Z-score normalization to one participant's EEG data\n",
        "participant_raw = interpolated_raw  # Make sure this contains the participant's Raw object\n",
        "\n",
        "try:\n",
        "    z_score_normalized_raw_participant = z_score_normalize_eeg_data(participant_raw)\n",
        "    print(\"Successfully applied Z-score normalization to the participant's EEG data.\")\n",
        "\n",
        "    # Check statistics to confirm normalization\n",
        "    data = z_score_normalized_raw_participant.get_data()\n",
        "    print(f\"Mean of Z-score normalized data: {np.mean(data, axis=1)}\")\n",
        "    print(f\"Standard deviation of Z-score normalized data: {np.std(data, axis=1)}\")\n",
        "\n",
        "except Exception as e:\n",
        "    print(f\"Failed to apply Z-score normalization: {e}\")\n"
      ]
    },
    {
      "cell_type": "code",
      "execution_count": null,
      "metadata": {
        "colab": {
          "base_uri": "https://localhost:8080/"
        },
        "id": "2_6IHNvCxbeu",
        "outputId": "1049459b-c2cc-4d33-a690-b4454349f76f"
      },
      "outputs": [
        {
          "name": "stdout",
          "output_type": "stream",
          "text": [
            "Segmenting EEG data for the participant...\n",
            "Partial segment with length 104\n",
            "5 full segments created.\n",
            "Segmented data saved as c:\\Users\\User\\Neurithm\\notebooks\\segmented_eeg_data.csv\n"
          ]
        }
      ],
      "source": [
        "import os\n",
        "import pandas as pd\n",
        "import numpy as np\n",
        "import mne\n",
        "\n",
        "# Segment length in seconds\n",
        "SEGMENT_LENGTH_SECONDS = 2\n",
        "SEGMENT_OVERLAP = 0.5  # Half-second overlap between segments\n",
        "segment_length = FS * SEGMENT_LENGTH_SECONDS\n",
        "overlap_length = int(FS * SEGMENT_OVERLAP)  # Overlap in samples\n",
        "\n",
        "segmented_participant_data = []\n",
        "\n",
        "print(\"Segmenting EEG data for the participant...\")\n",
        "\n",
        "if isinstance(z_score_normalized_raw_participant, mne.io.RawArray):\n",
        "    data = z_score_normalized_raw_participant.get_data().T\n",
        "    num_segments = (len(data) - overlap_length) // (segment_length - overlap_length)\n",
        "\n",
        "    # Create segments with overlap\n",
        "    for i in range(num_segments):\n",
        "        start = i * (segment_length - overlap_length)\n",
        "        end = start + segment_length\n",
        "        segments = data[start:end]\n",
        "        segmented_participant_data.append(segments)\n",
        "\n",
        "    # Handle remaining partial segment if it exists\n",
        "    if len(data) % (segment_length - overlap_length) != 0:\n",
        "        partial_segment = data[-segment_length:]  # Take the last full segment or as much as we can\n",
        "        print(f\"Partial segment with length {len(partial_segment)}\")\n",
        "        segmented_participant_data.append(partial_segment)\n",
        "\n",
        "    print(f\"{len(segmented_participant_data)} segments created.\")\n",
        "\n",
        "else:\n",
        "    print(f\"Unsupported data type: {type(z_score_normalized_raw_participant)}\")\n",
        "\n",
        "# Convert segments to DataFrame\n",
        "flat_segments = [pd.DataFrame(seg, columns=[f\"Channel_{i}\" for i in range(seg.shape[1])]) for seg in segmented_participant_data]\n",
        "\n",
        "if flat_segments:\n",
        "    df = pd.concat(flat_segments, ignore_index=True)\n",
        "\n",
        "# Save to CSV\n",
        "# Define a path to save the segmented data\n",
        "SEGMENTED_CSV_PATH = os.path.join(os.getcwd(), \"segmented_eeg_data.csv\")\n",
        "df.to_csv(SEGMENTED_CSV_PATH, index=False)\n",
        "print(f\"Segmented data saved as {SEGMENTED_CSV_PATH}\")\n"
      ]
    }
  ],
  "metadata": {
    "accelerator": "GPU",
    "colab": {
      "gpuType": "T4",
      "provenance": []
    },
    "kernelspec": {
      "display_name": "Python 3",
      "name": "python3"
    },
    "language_info": {
      "codemirror_mode": {
        "name": "ipython",
        "version": 3
      },
      "file_extension": ".py",
      "mimetype": "text/x-python",
      "name": "python",
      "nbconvert_exporter": "python",
      "pygments_lexer": "ipython3",
      "version": "3.12.7"
    }
  },
  "nbformat": 4,
  "nbformat_minor": 0
}
